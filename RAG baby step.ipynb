{
 "cells": [
  {
   "cell_type": "code",
   "execution_count": 2,
   "id": "fedbcf01-ea58-4212-bf41-f9924bd6988c",
   "metadata": {},
   "outputs": [],
   "source": [
    "from langchain.text_splitter import CharacterTextSplitter\n",
    "from langchain.chat_models import init_chat_model\n",
    "\n",
    "import getpass\n",
    "import os"
   ]
  },
  {
   "cell_type": "code",
   "execution_count": 3,
   "id": "65e4dc99-a407-45ef-81c0-7699ad4678eb",
   "metadata": {},
   "outputs": [],
   "source": [
    "llm = init_chat_model(\"gpt-4o-mini\", model_provider=\"openai\")"
   ]
  },
  {
   "cell_type": "code",
   "execution_count": 4,
   "id": "1de0ee09-28bd-48ee-b7f0-aa2c4c61fbd0",
   "metadata": {},
   "outputs": [
    {
     "data": {
      "text/plain": [
       "AIMessage(content='Qalaysiz?', additional_kwargs={'refusal': None}, response_metadata={'token_usage': {'completion_tokens': 6, 'prompt_tokens': 22, 'total_tokens': 28, 'completion_tokens_details': {'accepted_prediction_tokens': 0, 'audio_tokens': 0, 'reasoning_tokens': 0, 'rejected_prediction_tokens': 0}, 'prompt_tokens_details': {'audio_tokens': 0, 'cached_tokens': 0}}, 'model_name': 'gpt-4o-mini-2024-07-18', 'system_fingerprint': 'fp_3267753c5d', 'finish_reason': 'stop', 'logprobs': None}, id='run-c96f89ca-b685-4aa3-b14e-3f1196fdb144-0', usage_metadata={'input_tokens': 22, 'output_tokens': 6, 'total_tokens': 28, 'input_token_details': {'audio': 0, 'cache_read': 0}, 'output_token_details': {'audio': 0, 'reasoning': 0}})"
      ]
     },
     "execution_count": 4,
     "metadata": {},
     "output_type": "execute_result"
    }
   ],
   "source": [
    "from langchain_core.messages import HumanMessage, SystemMessage\n",
    "messages = [\n",
    "    SystemMessage(\"Translate the following from English into Uzbek\"),\n",
    "    HumanMessage(\"How are you?\"),\n",
    "]\n",
    "\n",
    "llm.invoke(messages)"
   ]
  },
  {
   "cell_type": "code",
   "execution_count": 6,
   "id": "ea59ec9a-2f3b-419a-904c-0156acc6d011",
   "metadata": {},
   "outputs": [],
   "source": [
    "from langchain_openai import OpenAIEmbeddings\n",
    "embeddings = OpenAIEmbeddings(model=\"text-embedding-3-large\")"
   ]
  },
  {
   "cell_type": "code",
   "execution_count": 7,
   "id": "18abe4b4-3e0a-4f9d-97b5-418749f0f94e",
   "metadata": {},
   "outputs": [],
   "source": [
    "from langchain_core.vectorstores import InMemoryVectorStore\n",
    "vector_store = InMemoryVectorStore(embeddings)\n"
   ]
  },
  {
   "cell_type": "code",
   "execution_count": null,
   "id": "b98c6d7a-f9bc-429c-beaf-245d1bc069da",
   "metadata": {},
   "outputs": [],
   "source": []
  },
  {
   "cell_type": "code",
   "execution_count": 8,
   "id": "db697b56-2f74-4860-a68c-fdc443480548",
   "metadata": {},
   "outputs": [],
   "source": [
    "import bs4\n",
    "from langchain import hub\n",
    "from langchain_community.document_loaders import PyPDFLoader\n",
    "from langchain_core.documents import Document\n",
    "from langchain_text_splitters import RecursiveCharacterTextSplitter\n",
    "from langgraph.graph import START, StateGraph\n",
    "from typing_extensions import List, TypedDict"
   ]
  },
  {
   "cell_type": "code",
   "execution_count": 9,
   "id": "fd7b44a3-cc86-45ac-89da-8d165f970957",
   "metadata": {},
   "outputs": [],
   "source": [
    "file_path = \"/home/iskandar/Downloads/tax_return_unchartered.pdf\"\n",
    "loader = PyPDFLoader(file_path)"
   ]
  },
  {
   "cell_type": "code",
   "execution_count": 10,
   "id": "92e02741-ad0f-410b-bdd7-9bfe5ad6fd31",
   "metadata": {},
   "outputs": [],
   "source": [
    "docs = loader.load()"
   ]
  },
  {
   "cell_type": "code",
   "execution_count": 11,
   "id": "5f63d3fc-973e-43e7-be94-94f35014dd4b",
   "metadata": {},
   "outputs": [],
   "source": [
    "text_splitter = RecursiveCharacterTextSplitter(chunk_size=1000, chunk_overlap=0)\n",
    "all_splits = text_splitter.split_documents(docs)"
   ]
  },
  {
   "cell_type": "code",
   "execution_count": null,
   "id": "70800d07-5b65-4d62-9bee-1be581181553",
   "metadata": {},
   "outputs": [],
   "source": []
  },
  {
   "cell_type": "code",
   "execution_count": null,
   "id": "f8694ced-7bf9-43a8-9b67-72976decaa5d",
   "metadata": {},
   "outputs": [],
   "source": []
  },
  {
   "cell_type": "code",
   "execution_count": 12,
   "id": "771d6123-0111-4742-9a77-4a57c0d02fa6",
   "metadata": {},
   "outputs": [],
   "source": [
    "vs = vector_store.add_documents(documents=all_splits)"
   ]
  },
  {
   "cell_type": "code",
   "execution_count": 13,
   "id": "56fb802c-8c88-442c-a43c-f5d8f8002124",
   "metadata": {},
   "outputs": [
    {
     "name": "stdin",
     "output_type": "stream",
     "text": [
      " ········\n"
     ]
    }
   ],
   "source": [
    "os.environ['LANGSMITH_TRACING']=\"true\"\n",
    "os.environ['LANGSMITH_API_KEY']=getpass.getpass()"
   ]
  },
  {
   "cell_type": "code",
   "execution_count": 14,
   "id": "d0729c36-f929-408d-9c21-5f123dc1bc19",
   "metadata": {},
   "outputs": [],
   "source": [
    "prompt = hub.pull(\"rlm/rag-prompt\")\n",
    "\n",
    "\n",
    "# Define state for application\n",
    "class State(TypedDict):\n",
    "    question: str\n",
    "    context: List[Document]\n",
    "    answer: str\n",
    "\n",
    "\n",
    "# Define application steps\n",
    "def retrieve(state: State):\n",
    "    retrieved_docs = vector_store.similarity_search(state[\"question\"])\n",
    "    return {\"context\": retrieved_docs}\n",
    "\n",
    "\n",
    "def generate(state: State):\n",
    "    docs_content = \"\\n\\n\".join(doc.page_content for doc in state[\"context\"])\n",
    "    messages = prompt.invoke({\"question\": state[\"question\"], \"context\": docs_content})\n",
    "    response = llm.invoke(messages)\n",
    "    return {\"answer\": response.content}"
   ]
  },
  {
   "cell_type": "code",
   "execution_count": 15,
   "id": "a18b5773-5319-4245-b0a1-b688049e3a59",
   "metadata": {},
   "outputs": [],
   "source": [
    "from langgraph.graph import START, StateGraph\n",
    "\n",
    "graph_builder = StateGraph(State).add_sequence([retrieve, generate])\n",
    "graph_builder.add_edge(START, \"retrieve\")\n",
    "graph = graph_builder.compile()"
   ]
  },
  {
   "cell_type": "code",
   "execution_count": 16,
   "id": "5c7898af-5051-491b-bae7-456e48ff90d7",
   "metadata": {},
   "outputs": [
    {
     "name": "stdout",
     "output_type": "stream",
     "text": [
      "Answer: The document provides supplemental information regarding Schedule K-1 and notifies partners of a partnership that they are exempt from filing Schedule K-3 for tax year 2024 due to specific criteria. It details the conditions under which partners, all of whom are U.S. citizens or residents, will not receive Schedule K-3 unless specifically requested. Additionally, it includes sections for e-file authorization and partnership identification details for tax reporting.\n"
     ]
    }
   ],
   "source": [
    "result = graph.invoke({\"question\": \"What is this document about?\"})\n",
    "\n",
    "#print(f'Context: {result[\"context\"]}\\n\\n')\n",
    "print(f'Answer: {result[\"answer\"]}')"
   ]
  },
  {
   "cell_type": "code",
   "execution_count": 20,
   "id": "a1c2cdd4-5831-46e1-8389-c8972560ff3d",
   "metadata": {},
   "outputs": [
    {
     "name": "stdout",
     "output_type": "stream",
     "text": [
      "Answer: The company associated with this tax form is UNCHARTERED LLC. Their employer identification number is 93-2773352. This form is likely related to an application for extending the time to file certain business income tax returns.\n"
     ]
    }
   ],
   "source": [
    "result = graph.invoke({\"question\": \"What is the name of the company this tax form used for?\"})\n",
    "\n",
    "#print(f'Context: {result[\"context\"]}\\n\\n')\n",
    "print(f'Answer: {result[\"answer\"]}')"
   ]
  },
  {
   "cell_type": "code",
   "execution_count": 21,
   "id": "fde9e007-9038-455b-8ccc-02c913fa7b9d",
   "metadata": {},
   "outputs": [
    {
     "name": "stdout",
     "output_type": "stream",
     "text": [
      "Answer: The company appears to be operating at a loss, as indicated by the repeated figures of (29,860) and other negative values throughout the context. Therefore, it is not profitable.\n"
     ]
    }
   ],
   "source": [
    "result = graph.invoke({\"question\": \"Is the company profitable?\"})\n",
    "\n",
    "#print(f'Context: {result[\"context\"]}\\n\\n')\n",
    "print(f'Answer: {result[\"answer\"]}')"
   ]
  },
  {
   "cell_type": "code",
   "execution_count": 20,
   "id": "2976368f-8355-446f-a968-3811d0146132",
   "metadata": {},
   "outputs": [
    {
     "name": "stdout",
     "output_type": "stream",
     "text": [
      "Context: [Document(id='b6e27aa7-a79f-4176-b614-81d40f749166', metadata={'producer': 'Drake Software LLC', 'creator': 'Drake PDF Distiller', 'creationdate': '2025-03-14T03:59:17+00:00', 'author': 'Drake Software LLC', 'keywords': '', 'moddate': '2025-03-14T03:59:42-06:00', 'subject': 'Tax Documents', 'title': '2024 Tax Documents', 'source': '/home/iskandar/Downloads/tax_return_unchartered.pdf', 'total_pages': 84, 'page': 12, 'page_label': '13'}, page_content=\"Line 17 Line 19 Line 20a Line 21Description Type Income/Loss 4797 Pass-thru Net\\nTotals\\nK-1 Rental Real Estate Activity\\n8825 2024Information provided to determine participation level in each rental property\\n(For shareholder's and partner's records only)\\nAccumulated differences may occur as a result of rounding individual properties.\\nEIN/SSN\\nK1_8825~.LD\\nShareholder/Partner Name Ownership percentage\\n.......................................................\\nISKANDAR ATAKHODJAEV  33.34 271-59-3993\\n3617 CONGER RD\\nHuntsville, AL 35803 1 Single family (1,410)\\n4803 PADGETT DR\\nHuntsville, AL 35810 1 Single family (2,188)\\n2406 HALMAC DR NW\\nHuntsville, AL 35810 1 Single family (677)\\n3703 N WESTDALE CT SW\\nHuntsville, AL 35805 1 Single family (3,497)\\n1711 SEBRING ST NW\\nHuntsville, AL 35816 1 Single family (1,418)\\n3617 PENNY ST SW\\nHuntsville, AL 35805 1 Single family (352)\\n(9,542) (9,542)\"), Document(id='6dd96630-4d4e-4c4c-b0c2-ec26710367cb', metadata={'producer': 'Drake Software LLC', 'creator': 'Drake PDF Distiller', 'creationdate': '2025-03-14T03:59:17+00:00', 'author': 'Drake Software LLC', 'keywords': '', 'moddate': '2025-03-14T03:59:42-06:00', 'subject': 'Tax Documents', 'title': '2024 Tax Documents', 'source': '/home/iskandar/Downloads/tax_return_unchartered.pdf', 'total_pages': 84, 'page': 28, 'page_label': '29'}, page_content=\"Line 17 Line 19 Line 20a Line 21Description Type Income/Loss 4797 Pass-thru Net\\nTotals\\nK-1 Rental Real Estate Activity\\n8825 2024Information provided to determine participation level in each rental property\\n(For shareholder's and partner's records only)\\nAccumulated differences may occur as a result of rounding individual properties.\\nEIN/SSN\\nK1_8825~.LD\\nShareholder/Partner Name Ownership percentage\\n.......................................................\\nLU WU  33.33 044-97-0371\\n3617 CONGER RD\\nHuntsville, AL 35803 1 Single family (1,410)\\n4803 PADGETT DR\\nHuntsville, AL 35810 1 Single family (2,187)\\n2406 HALMAC DR NW\\nHuntsville, AL 35810 1 Single family (677)\\n3703 N WESTDALE CT SW\\nHuntsville, AL 35805 1 Single family (3,496)\\n1711 SEBRING ST NW\\nHuntsville, AL 35816 1 Single family (1,417)\\n3617 PENNY ST SW\\nHuntsville, AL 35805 1 Single family (351)\\n(9,538) (9,538)\"), Document(id='654ebde1-c92f-4d45-8566-87f8c095f6b1', metadata={'producer': 'Drake Software LLC', 'creator': 'Drake PDF Distiller', 'creationdate': '2025-03-14T03:59:17+00:00', 'author': 'Drake Software LLC', 'keywords': '', 'moddate': '2025-03-14T03:59:42-06:00', 'subject': 'Tax Documents', 'title': '2024 Tax Documents', 'source': '/home/iskandar/Downloads/tax_return_unchartered.pdf', 'total_pages': 84, 'page': 20, 'page_label': '21'}, page_content=\"Line 17 Line 19 Line 20a Line 21Description Type Income/Loss 4797 Pass-thru Net\\nTotals\\nK-1 Rental Real Estate Activity\\n8825 2024Information provided to determine participation level in each rental property\\n(For shareholder's and partner's records only)\\nAccumulated differences may occur as a result of rounding individual properties.\\nEIN/SSN\\nK1_8825~.LD\\nShareholder/Partner Name Ownership percentage\\n.......................................................\\nNIKITA IVKIN  33.33 184-69-0094\\n3617 CONGER RD\\nHuntsville, AL 35803 1 Single family (1,410)\\n4803 PADGETT DR\\nHuntsville, AL 35810 1 Single family (2,187)\\n2406 HALMAC DR NW\\nHuntsville, AL 35810 1 Single family (677)\\n3703 N WESTDALE CT SW\\nHuntsville, AL 35805 1 Single family (3,496)\\n1711 SEBRING ST NW\\nHuntsville, AL 35816 1 Single family (1,418)\\n3617 PENNY ST SW\\nHuntsville, AL 35805 1 Single family (352)\\n(9,540) (9,540)\"), Document(id='ad31a88f-d8cc-42da-b86c-cb9023955ab1', metadata={'producer': 'Drake Software LLC', 'creator': 'Drake PDF Distiller', 'creationdate': '2025-03-14T03:59:17+00:00', 'author': 'Drake Software LLC', 'keywords': '', 'moddate': '2025-03-14T03:59:42-06:00', 'subject': 'Tax Documents', 'title': '2024 Tax Documents', 'source': '/home/iskandar/Downloads/tax_return_unchartered.pdf', 'total_pages': 84, 'page': 71, 'page_label': '72'}, page_content=\"Multistate entities should not use Schedule K to allocate separately stated income. See instructions for Schedule B.\\nApportionment Apportioned Enter on Alabama\\nFactor (B) Amount (C) Schedule K-1\\nExpenses from other rental activities (attach statement)\\nOpportunity Zone Investment(from Schedule OZ, line 4)\\nSCHEDULE K\\nForm 65 - 2024\\nPage 4\\nFederalPartners' Distributive Share Items Amount (A)\\nINCOME (LOSS)\\n1. 1\\n2. 2\\n3. a. 3a\\nb. 3b\\nc. 3c\\n4. 4\\n5. 5\\n6. 6\\n7. 7\\n8. a. 8a\\nb. 8b\\nc. 8c\\nd. 8d\\n9. 9\\n10. 10\\n11. 11\\nDEDUCTIONS\\n12. 12\\n13. a. 13a\\nb. 13b\\n14. 14\\n15. 15\\n16. 16\\n17. 17\\nOTHER\\n18. a. 18a\\nb. 18b\\nc. 18c\\n19. a. 19a\\nb. 19b\\n20. a. 20a\\nb. 20b\\nc. 20c\\n21. 21\\n22. 22\\n23. 23\\nAlabama Ordinary income (loss) (page 1, line 32) Part III, Line H\\nNet rental real estate income (loss) (attach Form 8825) Part III, Line I\\nOther gross rental income (loss)\\nOther net rental income (loss). Subtract 3b from line 3a Part III, Line I\\nGuaranteed payments Part III, Line J\\nInterest income Part III, Line K\")]\n",
      "\n",
      "\n",
      "Answer: The total rental loss in K-1 Rental Real Estate Activity for the three individuals listed is -9,542, -9,538, and -9,540, respectively. Each individual has incurred a similar loss amounting to approximately -9,540. Therefore, the total rental loss across all three is approximately -28,620.\n"
     ]
    }
   ],
   "source": [
    "result = graph.invoke({\"question\": \"what is the total rental loss in K-1 Rental Real Estate Activity?\"})\n",
    "\n",
    "print(f'Context: {result[\"context\"]}\\n\\n')\n",
    "print(f'Answer: {result[\"answer\"]}')"
   ]
  },
  {
   "cell_type": "code",
   "execution_count": null,
   "id": "510a7cda-337f-4108-ac8e-ccafc8052cc5",
   "metadata": {},
   "outputs": [],
   "source": []
  }
 ],
 "metadata": {
  "kernelspec": {
   "display_name": "Python 3 (ipykernel)",
   "language": "python",
   "name": "python3"
  },
  "language_info": {
   "codemirror_mode": {
    "name": "ipython",
    "version": 3
   },
   "file_extension": ".py",
   "mimetype": "text/x-python",
   "name": "python",
   "nbconvert_exporter": "python",
   "pygments_lexer": "ipython3",
   "version": "3.10.12"
  }
 },
 "nbformat": 4,
 "nbformat_minor": 5
}
